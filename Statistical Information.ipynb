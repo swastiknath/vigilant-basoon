{
    "nbformat_minor": 1, 
    "cells": [
        {
            "execution_count": 1, 
            "cell_type": "code", 
            "metadata": {}, 
            "outputs": [
                {
                    "output_type": "stream", 
                    "name": "stdout", 
                    "text": "Waiting for a Spark session to start...\nSpark Initialization Done! ApplicationId = app-20190516121238-0003\nKERNEL_ID = 23cd6bf2-3201-4d7a-9cea-ac0626a7e6f6\n8.8\n"
                }
            ], 
            "source": "range = [34,1,23,4,3,3,12,4,3,1]\nrdd = sc.parallelize(range);\nsum = rdd.sum()\nn = rdd.count()\nmean = sum/float(n)\nprint (mean)"
        }, 
        {
            "execution_count": 2, 
            "cell_type": "code", 
            "metadata": {}, 
            "outputs": [
                {
                    "output_type": "stream", 
                    "name": "stdout", 
                    "text": "Processing////////\nn is even\n3.5\n"
                }
            ], 
            "source": "fx = rdd.sortBy(lambda x:x).collect()\nn = rdd.count()\nprint(\"Processing////////\")\nif(n%2 == 1):\n    print(\"n is odd\")\n    index = (n-1)/2\n    value = fx[index]\n    print(value)\nelse:\n    print(\"n is even\")\n    index1 = int(n/2 - 1)\n    index2 = int(n/2)\n    value1 = fx[index1]\n    value2 = fx[index2]\n    fin = (value1+value2)/2\n    print(fin)"
        }, 
        {
            "execution_count": 3, 
            "cell_type": "code", 
            "metadata": {}, 
            "outputs": [
                {
                    "output_type": "stream", 
                    "name": "stdout", 
                    "text": "10.562196741208714\n"
                }
            ], 
            "source": "from math import sqrt\n\nsd = sqrt(rdd.map(lambda x: pow(x -mean, 2)).sum()/n)\nprint(sd)"
        }, 
        {
            "execution_count": 4, 
            "cell_type": "code", 
            "metadata": {}, 
            "outputs": [
                {
                    "execution_count": 4, 
                    "metadata": {}, 
                    "data": {
                        "text/plain": "0.0946772744819713"
                    }, 
                    "output_type": "execute_result"
                }
            ], 
            "source": "n = float(n)\nskewness = (rdd.map(lambda x: pow(x-mean, 2)/pow(sd, 3)).sum()/n)\nskewness"
        }, 
        {
            "execution_count": 9, 
            "cell_type": "code", 
            "metadata": {}, 
            "outputs": [
                {
                    "execution_count": 9, 
                    "metadata": {}, 
                    "data": {
                        "text/plain": "3.663124005193276"
                    }, 
                    "output_type": "execute_result"
                }
            ], 
            "source": "kurtosis = rdd.map(lambda x: pow(x-mean, 4)/pow(sd, 4)).sum()/n\nkurtosis"
        }, 
        {
            "execution_count": null, 
            "cell_type": "code", 
            "metadata": {}, 
            "outputs": [], 
            "source": ""
        }
    ], 
    "metadata": {
        "kernelspec": {
            "display_name": "Python 3.5 with Spark", 
            "name": "python3", 
            "language": "python3"
        }, 
        "language_info": {
            "mimetype": "text/x-python", 
            "nbconvert_exporter": "python", 
            "version": "3.5.4", 
            "name": "python", 
            "file_extension": ".py", 
            "pygments_lexer": "ipython3", 
            "codemirror_mode": {
                "version": 3, 
                "name": "ipython"
            }
        }
    }, 
    "nbformat": 4
}